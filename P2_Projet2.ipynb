{
 "cells": [
  {
   "cell_type": "code",
   "execution_count": 7,
   "id": "62b6af7f",
   "metadata": {},
   "outputs": [],
   "source": [
    "import pandas as pd\n",
    "import numpy as np\n",
    "\n",
    "\n",
    "\n",
    "\n",
    "\n"
   ]
  },
  {
   "cell_type": "code",
   "execution_count": 4,
   "id": "84b3a001",
   "metadata": {},
   "outputs": [
    {
     "ename": "NameError",
     "evalue": "name 'pd' is not defined",
     "output_type": "error",
     "traceback": [
      "\u001b[1;31m---------------------------------------------------------------------------\u001b[0m",
      "\u001b[1;31mNameError\u001b[0m                                 Traceback (most recent call last)",
      "Input \u001b[1;32mIn [4]\u001b[0m, in \u001b[0;36m<module>\u001b[1;34m\u001b[0m\n\u001b[1;32m----> 1\u001b[0m dataFile \u001b[38;5;241m=\u001b[39m \u001b[43mpd\u001b[49m\u001b[38;5;241m.\u001b[39mread_csv(\u001b[38;5;124m\"\u001b[39m\u001b[38;5;124mc:\u001b[39m\u001b[38;5;130;01m\\\\\u001b[39;00m\u001b[38;5;124mprojet\u001b[39m\u001b[38;5;130;01m\\\\\u001b[39;00m\u001b[38;5;124mprojet2\u001b[39m\u001b[38;5;130;01m\\\\\u001b[39;00m\u001b[38;5;124mdata\u001b[39m\u001b[38;5;130;01m\\\\\u001b[39;00m\u001b[38;5;124mEdStatsData.csv\u001b[39m\u001b[38;5;124m\"\u001b[39m)\u001b[38;5;241m.\u001b[39mdropna(how\u001b[38;5;241m=\u001b[39m\u001b[38;5;124m'\u001b[39m\u001b[38;5;124mall\u001b[39m\u001b[38;5;124m'\u001b[39m, axis\u001b[38;5;241m=\u001b[39m\u001b[38;5;124m'\u001b[39m\u001b[38;5;124mcolumns\u001b[39m\u001b[38;5;124m'\u001b[39m)\n\u001b[0;32m      2\u001b[0m countryFile \u001b[38;5;241m=\u001b[39m pd\u001b[38;5;241m.\u001b[39mread_csv(\u001b[38;5;124m\"\u001b[39m\u001b[38;5;124mc:\u001b[39m\u001b[38;5;130;01m\\\\\u001b[39;00m\u001b[38;5;124mprojet\u001b[39m\u001b[38;5;130;01m\\\\\u001b[39;00m\u001b[38;5;124mprojet2\u001b[39m\u001b[38;5;130;01m\\\\\u001b[39;00m\u001b[38;5;124mdata\u001b[39m\u001b[38;5;130;01m\\\\\u001b[39;00m\u001b[38;5;124mEdStatsCountry.csv\u001b[39m\u001b[38;5;124m\"\u001b[39m)\u001b[38;5;241m.\u001b[39mdropna(how\u001b[38;5;241m=\u001b[39m\u001b[38;5;124m'\u001b[39m\u001b[38;5;124mall\u001b[39m\u001b[38;5;124m'\u001b[39m, axis\u001b[38;5;241m=\u001b[39m\u001b[38;5;124m'\u001b[39m\u001b[38;5;124mcolumns\u001b[39m\u001b[38;5;124m'\u001b[39m)\n\u001b[0;32m      3\u001b[0m cnt_serFile \u001b[38;5;241m=\u001b[39m pd\u001b[38;5;241m.\u001b[39mread_csv(\u001b[38;5;124m\"\u001b[39m\u001b[38;5;124mc:\u001b[39m\u001b[38;5;130;01m\\\\\u001b[39;00m\u001b[38;5;124mprojet\u001b[39m\u001b[38;5;130;01m\\\\\u001b[39;00m\u001b[38;5;124mprojet2\u001b[39m\u001b[38;5;130;01m\\\\\u001b[39;00m\u001b[38;5;124mdata\u001b[39m\u001b[38;5;130;01m\\\\\u001b[39;00m\u001b[38;5;124mEdStatsCountry-Series.csv\u001b[39m\u001b[38;5;124m\"\u001b[39m)\u001b[38;5;241m.\u001b[39mdropna(how\u001b[38;5;241m=\u001b[39m\u001b[38;5;124m'\u001b[39m\u001b[38;5;124mall\u001b[39m\u001b[38;5;124m'\u001b[39m, axis\u001b[38;5;241m=\u001b[39m\u001b[38;5;124m'\u001b[39m\u001b[38;5;124mcolumns\u001b[39m\u001b[38;5;124m'\u001b[39m)\n",
      "\u001b[1;31mNameError\u001b[0m: name 'pd' is not defined"
     ]
    }
   ],
   "source": [
    "dataFile = pd.read_csv(\"c:\\\\projet\\\\projet2\\\\data\\\\EdStatsData.csv\").dropna(how='all', axis='columns')\n",
    "countryFile = pd.read_csv(\"c:\\\\projet\\\\projet2\\\\data\\\\EdStatsCountry.csv\").dropna(how='all', axis='columns')\n",
    "cnt_serFile = pd.read_csv(\"c:\\\\projet\\\\projet2\\\\data\\\\EdStatsCountry-Series.csv\").dropna(how='all', axis='columns')\n",
    "seriesFile = pd.read_csv(\"c:\\\\projet\\\\projet2\\\\data\\\\EdStatsSeries.csv\").dropna(how='all', axis='columns')\n",
    "footnoteFile = pd.read_csv(\"c:\\\\projet\\\\projet2\\\\data\\\\EdStatsFootNote.csv\").dropna(how='all', axis='columns')\n"
   ]
  },
  {
   "cell_type": "code",
   "execution_count": null,
   "id": "243d42fd",
   "metadata": {},
   "outputs": [],
   "source": []
  },
  {
   "cell_type": "code",
   "execution_count": 3,
   "id": "0e71fd55",
   "metadata": {},
   "outputs": [
    {
     "ename": "NameError",
     "evalue": "name 'dataFile' is not defined",
     "output_type": "error",
     "traceback": [
      "\u001b[1;31m---------------------------------------------------------------------------\u001b[0m",
      "\u001b[1;31mNameError\u001b[0m                                 Traceback (most recent call last)",
      "Input \u001b[1;32mIn [3]\u001b[0m, in \u001b[0;36m<module>\u001b[1;34m\u001b[0m\n\u001b[0;32m      1\u001b[0m \u001b[38;5;66;03m# Creation de copie des fichiers cree precedemment\u001b[39;00m\n\u001b[1;32m----> 2\u001b[0m dataCopie \u001b[38;5;241m=\u001b[39m \u001b[43mdataFile\u001b[49m\u001b[38;5;241m.\u001b[39mcopy()\n\u001b[0;32m      3\u001b[0m countryCopie \u001b[38;5;241m=\u001b[39m countryFile\u001b[38;5;241m.\u001b[39mcopy()\n\u001b[0;32m      4\u001b[0m serieCopie \u001b[38;5;241m=\u001b[39m seriesFile\u001b[38;5;241m.\u001b[39mcopy()\n",
      "\u001b[1;31mNameError\u001b[0m: name 'dataFile' is not defined"
     ]
    }
   ],
   "source": [
    "\n",
    "# Creation de copie des fichiers cree precedemment\n",
    "dataCopie = dataFile.copy()\n",
    "countryCopie = countryFile.copy()\n",
    "serieCopie = seriesFile.copy()\n",
    "cnt_serCopie = cnt_serFile.copy()\n",
    "FootnoteCopie = footnoteFile.copy()\n"
   ]
  },
  {
   "cell_type": "code",
   "execution_count": 15,
   "id": "8e9e54bf",
   "metadata": {},
   "outputs": [
    {
     "name": "stdout",
     "output_type": "stream",
     "text": [
      "                      Series Code         Topic  \\\n",
      "0             BAR.NOED.1519.FE.ZS    Attainment   \n",
      "1                BAR.NOED.1519.ZS    Attainment   \n",
      "2             BAR.NOED.15UP.FE.ZS    Attainment   \n",
      "3                BAR.NOED.15UP.ZS    Attainment   \n",
      "4             BAR.NOED.2024.FE.ZS    Attainment   \n",
      "...                           ...           ...   \n",
      "3660    UIS.XUNIT.USCONST.3.FSGOV  Expenditures   \n",
      "3661    UIS.XUNIT.USCONST.4.FSGOV  Expenditures   \n",
      "3662   UIS.XUNIT.USCONST.56.FSGOV  Expenditures   \n",
      "3663  XGDP.23.FSGOV.FDINSTADM.FFD  Expenditures   \n",
      "3664  XGDP.56.FSGOV.FDINSTADM.FFD  Expenditures   \n",
      "\n",
      "                                         Indicator Name  \\\n",
      "0     Barro-Lee: Percentage of female population age...   \n",
      "1     Barro-Lee: Percentage of population age 15-19 ...   \n",
      "2     Barro-Lee: Percentage of female population age...   \n",
      "3     Barro-Lee: Percentage of population age 15+ wi...   \n",
      "4     Barro-Lee: Percentage of female population age...   \n",
      "...                                                 ...   \n",
      "3660  Government expenditure per upper secondary stu...   \n",
      "3661  Government expenditure per post-secondary non-...   \n",
      "3662  Government expenditure per tertiary student (c...   \n",
      "3663  Government expenditure in secondary institutio...   \n",
      "3664  Government expenditure in tertiary institution...   \n",
      "\n",
      "                                       Short definition  \\\n",
      "0     Percentage of female population age 15-19 with...   \n",
      "1     Percentage of population age 15-19 with no edu...   \n",
      "2     Percentage of female population age 15+ with n...   \n",
      "3     Percentage of population age 15+ with no educa...   \n",
      "4     Percentage of female population age 20-24 with...   \n",
      "...                                                 ...   \n",
      "3660                                                NaN   \n",
      "3661                                                NaN   \n",
      "3662                                                NaN   \n",
      "3663  Total general (local, regional and central) go...   \n",
      "3664  Total general (local, regional and central) go...   \n",
      "\n",
      "                                        Long definition Periodicity  \\\n",
      "0     Percentage of female population age 15-19 with...         NaN   \n",
      "1     Percentage of population age 15-19 with no edu...         NaN   \n",
      "2     Percentage of female population age 15+ with n...         NaN   \n",
      "3     Percentage of population age 15+ with no educa...         NaN   \n",
      "4     Percentage of female population age 20-24 with...         NaN   \n",
      "...                                                 ...         ...   \n",
      "3660  Average total (current, capital and transfers)...         NaN   \n",
      "3661  Average total (current, capital and transfers)...         NaN   \n",
      "3662  Average total (current, capital and transfers)...         NaN   \n",
      "3663  Total general (local, regional and central) go...         NaN   \n",
      "3664  Total general (local, regional and central) go...         NaN   \n",
      "\n",
      "     Base Period Other notes Aggregation method Limitations and exceptions  \\\n",
      "0            NaN         NaN                NaN                        NaN   \n",
      "1            NaN         NaN                NaN                        NaN   \n",
      "2            NaN         NaN                NaN                        NaN   \n",
      "3            NaN         NaN                NaN                        NaN   \n",
      "4            NaN         NaN                NaN                        NaN   \n",
      "...          ...         ...                ...                        ...   \n",
      "3660         NaN         NaN                NaN                        NaN   \n",
      "3661         NaN         NaN                NaN                        NaN   \n",
      "3662         NaN         NaN                NaN                        NaN   \n",
      "3663         NaN   Secondary                NaN                        NaN   \n",
      "3664         NaN    Tertiary                NaN                        NaN   \n",
      "\n",
      "     General comments                                             Source  \\\n",
      "0                 NaN  Robert J. Barro and Jong-Wha Lee: http://www.b...   \n",
      "1                 NaN  Robert J. Barro and Jong-Wha Lee: http://www.b...   \n",
      "2                 NaN  Robert J. Barro and Jong-Wha Lee: http://www.b...   \n",
      "3                 NaN  Robert J. Barro and Jong-Wha Lee: http://www.b...   \n",
      "4                 NaN  Robert J. Barro and Jong-Wha Lee: http://www.b...   \n",
      "...               ...                                                ...   \n",
      "3660              NaN                    UNESCO Institute for Statistics   \n",
      "3661              NaN                    UNESCO Institute for Statistics   \n",
      "3662              NaN                    UNESCO Institute for Statistics   \n",
      "3663              NaN                    UNESCO Institute for Statistics   \n",
      "3664              NaN                    UNESCO Institute for Statistics   \n",
      "\n",
      "     Statistical concept and methodology Development relevance  \\\n",
      "0                                    NaN                   NaN   \n",
      "1                                    NaN                   NaN   \n",
      "2                                    NaN                   NaN   \n",
      "3                                    NaN                   NaN   \n",
      "4                                    NaN                   NaN   \n",
      "...                                  ...                   ...   \n",
      "3660                                 NaN                   NaN   \n",
      "3661                                 NaN                   NaN   \n",
      "3662                                 NaN                   NaN   \n",
      "3663                                 NaN                   NaN   \n",
      "3664                                 NaN                   NaN   \n",
      "\n",
      "     Related source links  \n",
      "0                     NaN  \n",
      "1                     NaN  \n",
      "2                     NaN  \n",
      "3                     NaN  \n",
      "4                     NaN  \n",
      "...                   ...  \n",
      "3660                  NaN  \n",
      "3661                  NaN  \n",
      "3662                  NaN  \n",
      "3663                  NaN  \n",
      "3664                  NaN  \n",
      "\n",
      "[3665 rows x 15 columns]\n"
     ]
    }
   ],
   "source": [
    "## COMPTAGE DES 'valeurs NULL' par LIGNES et par COLONNES \n",
    "\n",
    "infos_t = pd.concat([infos(data), infos(country), infos(series),\\\n",
    "                  infos(cnt_ser), infos(footnote)], axis = 0,\\\n",
    "                 keys=['data', 'country', 'series', 'cnt_ser', 'footnote'])\n",
    "pd.options.display.float_format = '{:.1f}'.format\n",
    "infos_t\n",
    "\n",
    "print(infos_t)"
   ]
  },
  {
   "cell_type": "code",
   "execution_count": null,
   "id": "88b15af2",
   "metadata": {},
   "outputs": [],
   "source": []
  }
 ],
 "metadata": {
  "kernelspec": {
   "display_name": "Python 3 (ipykernel)",
   "language": "python",
   "name": "python3"
  },
  "language_info": {
   "codemirror_mode": {
    "name": "ipython",
    "version": 3
   },
   "file_extension": ".py",
   "mimetype": "text/x-python",
   "name": "python",
   "nbconvert_exporter": "python",
   "pygments_lexer": "ipython3",
   "version": "3.10.2"
  }
 },
 "nbformat": 4,
 "nbformat_minor": 5
}
